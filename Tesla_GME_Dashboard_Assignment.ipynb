{
 "cells": [
  {
   "cell_type": "markdown",
   "id": "672f6889",
   "metadata": {},
   "source": [
    "# Tesla and GameStop Financial Dashboard Assignment\n",
    "\n",
    "This notebook solves the assignment questions on extracting stock and revenue data for Tesla and GameStop using `yfinance` and web scraping."
   ]
  },
  {
   "cell_type": "code",
   "execution_count": null,
   "id": "2347fd87",
   "metadata": {},
   "outputs": [],
   "source": [
    "\n",
    "import yfinance as yf\n",
    "import pandas as pd\n",
    "import matplotlib.pyplot as plt\n",
    "import requests\n",
    "from bs4 import BeautifulSoup\n",
    "\n",
    "plt.style.use('fivethirtyeight')\n",
    "\n",
    "# Helper function for plotting\n",
    "def make_graph(stock_data, revenue_data, title):\n",
    "    fig, ax = plt.subplots(2, 1, figsize=(15, 10), sharex=True)\n",
    "    \n",
    "    # Plot stock price\n",
    "    ax[0].plot(stock_data['Date'], stock_data['Close'], label=\"Stock Price\")\n",
    "    ax[0].set_title(f\"{title} Stock Price\")\n",
    "    ax[0].set_ylabel(\"Stock Price ($)\")\n",
    "    ax[0].legend()\n",
    "    \n",
    "    # Plot revenue\n",
    "    ax[1].plot(revenue_data['Date'], revenue_data['Revenue'], label=\"Revenue\", color='orange')\n",
    "    ax[1].set_title(f\"{title} Revenue\")\n",
    "    ax[1].set_ylabel(\"Revenue ($)\")\n",
    "    ax[1].legend()\n",
    "    \n",
    "    plt.xticks(rotation=45)\n",
    "    plt.show()\n"
   ]
  },
  {
   "cell_type": "markdown",
   "id": "60766e25",
   "metadata": {},
   "source": [
    "## Question 1 - Extract Tesla Stock Data using yfinance"
   ]
  },
  {
   "cell_type": "code",
   "execution_count": null,
   "id": "2590de89",
   "metadata": {},
   "outputs": [],
   "source": [
    "\n",
    "tesla = yf.Ticker(\"TSLA\")\n",
    "tesla_data = tesla.history(period=\"max\")\n",
    "tesla_data.reset_index(inplace=True)\n",
    "tesla_data.to_csv('tesla_data.csv', index=False)\n",
    "\n",
    "print(\"Tesla Stock Data:\")\n",
    "print(tesla_data.head())\n"
   ]
  },
  {
   "cell_type": "markdown",
   "id": "a6b6b068",
   "metadata": {},
   "source": [
    "## Question 2 - Extract Tesla Revenue Data using Webscraping"
   ]
  },
  {
   "cell_type": "code",
   "execution_count": null,
   "id": "18a66c45",
   "metadata": {},
   "outputs": [],
   "source": [
    "\n",
    "url = \"https://www.macrotrends.net/stocks/charts/TSLA/tesla/revenue\"\n",
    "html_data = requests.get(url).text\n",
    "soup = BeautifulSoup(html_data, 'html.parser')\n",
    "\n",
    "tesla_revenue = pd.DataFrame(columns=[\"Date\", \"Revenue\"])\n",
    "tables = soup.find_all('table')\n",
    "\n",
    "for table in tables:\n",
    "    if \"Tesla Quarterly Revenue\" in str(table):\n",
    "        rows = table.find_all('tr')\n",
    "        for row in rows[1:]:\n",
    "            cols = row.find_all('td')\n",
    "            if len(cols) == 2:\n",
    "                date = cols[0].text.strip()\n",
    "                revenue = cols[1].text.strip().replace('$', '').replace(',', '')\n",
    "                if revenue != '':\n",
    "                    tesla_revenue = pd.concat([tesla_revenue, pd.DataFrame({\"Date\": [date], \"Revenue\": [revenue]})], ignore_index=True)\n",
    "\n",
    "tesla_revenue.to_csv('tesla_revenue.csv', index=False)\n",
    "print(\"Tesla Revenue Data:\")\n",
    "print(tesla_revenue.tail())\n"
   ]
  },
  {
   "cell_type": "markdown",
   "id": "11186b5b",
   "metadata": {},
   "source": [
    "## Question 3 - Extract GameStop Stock Data using yfinance"
   ]
  },
  {
   "cell_type": "code",
   "execution_count": null,
   "id": "5798455f",
   "metadata": {},
   "outputs": [],
   "source": [
    "\n",
    "gme = yf.Ticker(\"GME\")\n",
    "gme_data = gme.history(period=\"max\")\n",
    "gme_data.reset_index(inplace=True)\n",
    "gme_data.to_csv('gme_data.csv', index=False)\n",
    "\n",
    "print(\"GameStop Stock Data:\")\n",
    "print(gme_data.head())\n"
   ]
  },
  {
   "cell_type": "markdown",
   "id": "7a91d027",
   "metadata": {},
   "source": [
    "## Question 4 - Extract GameStop Revenue Data using Webscraping"
   ]
  },
  {
   "cell_type": "code",
   "execution_count": null,
   "id": "cf8c1dfe",
   "metadata": {},
   "outputs": [],
   "source": [
    "\n",
    "url_gme = \"https://www.macrotrends.net/stocks/charts/GME/gamestop/revenue\"\n",
    "html_data_gme = requests.get(url_gme).text\n",
    "soup_gme = BeautifulSoup(html_data_gme, 'html.parser')\n",
    "\n",
    "gme_revenue = pd.DataFrame(columns=[\"Date\", \"Revenue\"])\n",
    "tables_gme = soup_gme.find_all('table')\n",
    "\n",
    "for table in tables_gme:\n",
    "    if \"GameStop Quarterly Revenue\" in str(table):\n",
    "        rows = table.find_all('tr')\n",
    "        for row in rows[1:]:\n",
    "            cols = row.find_all('td')\n",
    "            if len(cols) == 2:\n",
    "                date = cols[0].text.strip()\n",
    "                revenue = cols[1].text.strip().replace('$', '').replace(',', '')\n",
    "                if revenue != '':\n",
    "                    gme_revenue = pd.concat([gme_revenue, pd.DataFrame({\"Date\": [date], \"Revenue\": [revenue]})], ignore_index=True)\n",
    "\n",
    "gme_revenue.to_csv('gme_revenue.csv', index=False)\n",
    "print(\"GameStop Revenue Data:\")\n",
    "print(gme_revenue.tail())\n"
   ]
  },
  {
   "cell_type": "markdown",
   "id": "5029e77a",
   "metadata": {},
   "source": [
    "## Question 5 - Tesla Stock and Revenue Dashboard"
   ]
  },
  {
   "cell_type": "code",
   "execution_count": null,
   "id": "102794c8",
   "metadata": {},
   "outputs": [],
   "source": [
    "\n",
    "make_graph(tesla_data, tesla_revenue, \"Tesla\")\n"
   ]
  },
  {
   "cell_type": "markdown",
   "id": "c756d9bd",
   "metadata": {},
   "source": [
    "## Question 6 - GameStop Stock and Revenue Dashboard"
   ]
  },
  {
   "cell_type": "code",
   "execution_count": null,
   "id": "9e1ac14a",
   "metadata": {},
   "outputs": [],
   "source": [
    "\n",
    "make_graph(gme_data, gme_revenue, \"GameStop\")\n"
   ]
  },
  {
   "cell_type": "markdown",
   "id": "60705a50",
   "metadata": {},
   "source": [
    "## Question 7 - Sharing the Assignment Notebook"
   ]
  },
  {
   "cell_type": "code",
   "execution_count": null,
   "id": "902a570d",
   "metadata": {},
   "outputs": [],
   "source": [
    "\n",
    "print(\"Save this notebook as 'Tesla_GME_Dashboard_Assignment.ipynb' and upload it for submission.\")\n"
   ]
  }
 ],
 "metadata": {
  "kernelspec": {
   "display_name": "Python 3",
   "language": "python",
   "name": "python3"
  },
  "language_info": {
   "name": "python",
   "version": "3.9"
  }
 },
 "nbformat": 4,
 "nbformat_minor": 5
}
