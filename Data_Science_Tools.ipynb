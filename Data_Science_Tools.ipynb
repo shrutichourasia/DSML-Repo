{
 "cells": [
  {
   "cell_type": "markdown",
   "id": "aeb5bac5",
   "metadata": {},
   "source": [
    "# Data Science Tools and Ecosystem"
   ]
  },
  {
   "cell_type": "markdown",
   "id": "8a1a6177",
   "metadata": {},
   "source": [
    "## Introduction\n",
    "In this notebook, we summarize some of the popular languages, libraries, and tools used in data science."
   ]
  },
  {
   "cell_type": "markdown",
   "id": "8e0df74b",
   "metadata": {},
   "source": [
    "## Data Science Languages\n",
    "- Python\n",
    "- R\n",
    "- SQL"
   ]
  },
  {
   "cell_type": "markdown",
   "id": "c06be635",
   "metadata": {},
   "source": [
    "## Data Science Libraries\n",
    "- Pandas\n",
    "- NumPy\n",
    "- Matplotlib\n",
    "- TensorFlow\n",
    "- Scikit-learn"
   ]
  },
  {
   "cell_type": "markdown",
   "id": "0ba97945",
   "metadata": {},
   "source": [
    "## Data Science Tools\n",
    "| Tool          | Category       |\n",
    "|---------------|----------------|\n",
    "| JupyterLab    | IDE/Notebook   |\n",
    "| RStudio       | IDE            |\n",
    "| Apache Spark  | Big Data Tool  |"
   ]
  },
  {
   "cell_type": "markdown",
   "id": "6a000e6d",
   "metadata": {},
   "source": [
    "## Examples of Arithmetic Expressions\n",
    "Below are some examples of basic arithmetic operations like addition and multiplication."
   ]
  },
  {
   "cell_type": "code",
   "execution_count": 3,
   "id": "7db0682c",
   "metadata": {},
   "outputs": [
    {
     "data": {
      "text/plain": [
       "17"
      ]
     },
     "execution_count": 3,
     "metadata": {},
     "output_type": "execute_result"
    }
   ],
   "source": [
    "# Multiply and add numbers\n",
    "(3*4) + 5"
   ]
  },
  {
   "cell_type": "code",
   "execution_count": 2,
   "id": "8998c7a4",
   "metadata": {},
   "outputs": [
    {
     "data": {
      "text/plain": [
       "3.3333333333333335"
      ]
     },
     "execution_count": 2,
     "metadata": {},
     "output_type": "execute_result"
    }
   ],
   "source": [
    "# Convert 200 minutes to hours\n",
    "minutes = 200\n",
    "hours = minutes / 60\n",
    "hours"
   ]
  },
  {
   "cell_type": "markdown",
   "id": "983c48ae",
   "metadata": {},
   "source": [
    "## Objectives\n",
    "- List popular languages for Data Science\n",
    "- List commonly used libraries in Data Science\n",
    "- Demonstrate arithmetic expressions in Python\n",
    "- Convert minutes to hours\n",
    "- Create a table of Data Science Tools"
   ]
  },
  {
   "cell_type": "markdown",
   "id": "f5c2996d",
   "metadata": {},
   "source": [
    "## Author\n",
    "**Your Name**"
   ]
  },
  {
   "cell_type": "code",
   "execution_count": null,
   "id": "b45a69ee-0145-4b0c-b00f-009051df644e",
   "metadata": {},
   "outputs": [],
   "source": []
  }
 ],
 "metadata": {
  "kernelspec": {
   "display_name": "Python 3 (ipykernel)",
   "language": "python",
   "name": "python3"
  },
  "language_info": {
   "codemirror_mode": {
    "name": "ipython",
    "version": 3
   },
   "file_extension": ".py",
   "mimetype": "text/x-python",
   "name": "python",
   "nbconvert_exporter": "python",
   "pygments_lexer": "ipython3",
   "version": "3.13.5"
  }
 },
 "nbformat": 4,
 "nbformat_minor": 5
}
