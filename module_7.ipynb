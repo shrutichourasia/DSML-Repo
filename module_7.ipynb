{
 "cells": [
  {
   "cell_type": "code",
   "execution_count": 1,
   "id": "fe8cea89-d600-4ef8-92f3-6cd1ccc76fcc",
   "metadata": {},
   "outputs": [],
   "source": [
    "import pandas as pd\n",
    "import numpy as np\n",
    "import matplotlib.pyplot as plt\n",
    "import seaborn as sns"
   ]
  },
  {
   "cell_type": "code",
   "execution_count": 2,
   "id": "9223b335-83ac-43d3-84c2-35eb92cfdd62",
   "metadata": {},
   "outputs": [
    {
     "name": "stdout",
     "output_type": "stream",
     "text": [
      "Q1 - Data Types of each column:\n",
      "id                 int64\n",
      "Unnamed: 0         int64\n",
      "price              int64\n",
      "bedrooms           int64\n",
      "bathrooms        float64\n",
      "sqft_living        int64\n",
      "sqft_lot           int64\n",
      "floors           float64\n",
      "waterfront         int64\n",
      "view               int64\n",
      "condition          int64\n",
      "grade              int64\n",
      "sqft_above         int64\n",
      "sqft_basement      int64\n",
      "yr_built           int64\n",
      "yr_renovated       int64\n",
      "zipcode            int64\n",
      "lat              float64\n",
      "long             float64\n",
      "sqft_living15      int64\n",
      "sqft_lot15         int64\n",
      "dtype: object\n"
     ]
    }
   ],
   "source": [
    "url = \"https://raw.githubusercontent.com/kshitijaBasarge/IBM_DataScience_Assignments/main/kc_house_data_Nan.csv\"\n",
    "df = pd.read_csv('kc_house_data_NAN.csv')\n",
    "df = df.dropna()\n",
    "\n",
    "print(\"Q1 - Data Types of each column:\")\n",
    "print(df.dtypes)"
   ]
  },
  {
   "cell_type": "code",
   "execution_count": 3,
   "id": "0ffd0418-8a76-411a-9e01-c46461669d85",
   "metadata": {},
   "outputs": [
    {
     "name": "stdout",
     "output_type": "stream",
     "text": [
      "\n",
      "Q2 - Statistical Summary after dropping columns:\n",
      "              price   bedrooms  bathrooms  sqft_living      sqft_lot  \\\n",
      "count  3.500000e+01  35.000000  35.000000    35.000000     35.000000   \n",
      "mean   5.568838e+05   2.942857   2.657143  2340.342857  10710.000000   \n",
      "std    3.416895e+05   1.327157   0.850704  1053.746005   5776.615593   \n",
      "min    1.160900e+05   1.000000   1.000000   595.000000   1663.000000   \n",
      "25%    2.409665e+05   2.000000   2.000000  1445.000000   5242.500000   \n",
      "50%    4.062360e+05   3.000000   2.800000  2319.000000  11173.000000   \n",
      "75%    8.346905e+05   4.000000   3.300000  3293.000000  15243.000000   \n",
      "max    1.188396e+06   5.000000   3.900000  3978.000000  19237.000000   \n",
      "\n",
      "          floors  waterfront       view  condition      grade   sqft_above  \\\n",
      "count  35.000000   35.000000  35.000000  35.000000  35.000000    35.000000   \n",
      "mean    1.600000    0.542857   1.685714   2.571429   5.857143  1908.942857   \n",
      "std     0.416569    0.505433   1.367080   1.144956   3.448298   925.466049   \n",
      "min     1.000000    0.000000   0.000000   1.000000   1.000000   419.000000   \n",
      "25%     1.250000    0.000000   0.000000   2.000000   3.000000  1158.500000   \n",
      "50%     1.500000    1.000000   2.000000   3.000000   6.000000  1929.000000   \n",
      "75%     2.000000    1.000000   3.000000   4.000000   8.500000  2764.500000   \n",
      "max     2.000000    1.000000   4.000000   4.000000  12.000000  3350.000000   \n",
      "\n",
      "       sqft_basement     yr_built  yr_renovated       zipcode        lat  \\\n",
      "count      35.000000    35.000000     35.000000     35.000000  35.000000   \n",
      "mean      778.542857  1963.685714   1429.571429  98003.085714  47.491339   \n",
      "std       373.362885    40.193482    917.359038      1.401080   0.208800   \n",
      "min         4.000000  1900.000000      0.000000  98001.000000  47.116290   \n",
      "25%       590.500000  1923.500000      0.000000  98002.000000  47.323659   \n",
      "50%       837.000000  1963.000000   1995.000000  98003.000000  47.578105   \n",
      "75%      1039.500000  2001.000000   2005.000000  98004.000000  47.667456   \n",
      "max      1373.000000  2018.000000   2010.000000  98005.000000  47.793354   \n",
      "\n",
      "             long  sqft_living15    sqft_lot15  \n",
      "count   35.000000      35.000000     35.000000  \n",
      "mean  -122.114371    2029.542857   8565.314286  \n",
      "std      0.193387    1019.734433   4749.335432  \n",
      "min   -122.393497     538.000000   1133.000000  \n",
      "25%   -122.334543    1233.000000   4349.500000  \n",
      "50%   -122.103348    1865.000000   8576.000000  \n",
      "75%   -121.945835    2547.500000  12668.000000  \n",
      "max   -121.808016    3986.000000  14987.000000  \n"
     ]
    }
   ],
   "source": [
    "df.drop([\"id\", \"Unnamed: 0\"], axis=1, inplace=True)\n",
    "\n",
    "print(\"\\nQ2 - Statistical Summary after dropping columns:\")\n",
    "print(df.describe())"
   ]
  },
  {
   "cell_type": "code",
   "execution_count": 8,
   "id": "71680d9f-dcb2-49d0-875f-d78bebceb18f",
   "metadata": {},
   "outputs": [
    {
     "name": "stdout",
     "output_type": "stream",
     "text": [
      "\n",
      "Q3 - Number of houses per floor type:\n"
     ]
    },
    {
     "data": {
      "text/html": [
       "<div>\n",
       "<style scoped>\n",
       "    .dataframe tbody tr th:only-of-type {\n",
       "        vertical-align: middle;\n",
       "    }\n",
       "\n",
       "    .dataframe tbody tr th {\n",
       "        vertical-align: top;\n",
       "    }\n",
       "\n",
       "    .dataframe thead th {\n",
       "        text-align: right;\n",
       "    }\n",
       "</style>\n",
       "<table border=\"1\" class=\"dataframe\">\n",
       "  <thead>\n",
       "    <tr style=\"text-align: right;\">\n",
       "      <th></th>\n",
       "      <th>count</th>\n",
       "    </tr>\n",
       "    <tr>\n",
       "      <th>floors</th>\n",
       "      <th></th>\n",
       "    </tr>\n",
       "  </thead>\n",
       "  <tbody>\n",
       "    <tr>\n",
       "      <th>2.0</th>\n",
       "      <td>16</td>\n",
       "    </tr>\n",
       "    <tr>\n",
       "      <th>1.5</th>\n",
       "      <td>10</td>\n",
       "    </tr>\n",
       "    <tr>\n",
       "      <th>1.0</th>\n",
       "      <td>9</td>\n",
       "    </tr>\n",
       "  </tbody>\n",
       "</table>\n",
       "</div>"
      ],
      "text/plain": [
       "        count\n",
       "floors       \n",
       "2.0        16\n",
       "1.5        10\n",
       "1.0         9"
      ]
     },
     "execution_count": 8,
     "metadata": {},
     "output_type": "execute_result"
    }
   ],
   "source": [
    "print(\"\\nQ3 - Number of houses per floor type:\")\n",
    "# Count unique floor values and convert to DataFrame\n",
    "pisos = df['floors'].value_counts().to_frame()\n",
    "pisos"
   ]
  },
  {
   "cell_type": "code",
   "execution_count": 5,
   "id": "75958096-82ea-4fd3-9ecc-da277cb6bf41",
   "metadata": {},
   "outputs": [
    {
     "name": "stdout",
     "output_type": "stream",
     "text": [
      "\n",
      "Q4 - Boxplot for waterfront vs price\n"
     ]
    },
    {
     "data": {
      "image/png": "[encoded data removed]",
      "text/plain": [
       "<Figure size 640x480 with 1 Axes>"
      ]
     },
     "metadata": {},
     "output_type": "display_data"
    }
   ],
   "source": [
    "print(\"\\nQ4 - Boxplot for waterfront vs price\")\n",
    "sns.boxplot(x=\"waterfront\", y=\"price\", data=df)\n",
    "plt.title(\"Boxplot: Waterfront vs Price\")\n",
    "plt.show()"
   ]
  },
  {
   "cell_type": "code",
   "execution_count": 7,
   "id": "28e5bdb0-3127-42ee-9392-6767916803c7",
   "metadata": {},
   "outputs": [
    {
     "name": "stdout",
     "output_type": "stream",
     "text": [
      "\n",
      "Q5 - Regplot for sqft_above vs price\n"
     ]
    },
    {
     "data": {
      "image/png": "[encoded data removed]",
      "text/plain": [
       "<Figure size 640x480 with 1 Axes>"
      ]
     },
     "metadata": {},
     "output_type": "display_data"
    }
   ],
   "source": [
    "print(\"\\nQ5 - Regplot for sqft_above vs price\")\n",
    "sns.regplot(x=\"sqft_above\", y=\"price\", data=df, line_kws={\"color\": \"red\"})\n",
    "plt.title(\"Regression Plot: sqft_above vs Price\")\n",
    "plt.show()"
   ]
  },
  {
   "cell_type": "code",
   "execution_count": 9,
   "id": "f343f895-28c3-4859-a698-5b4a8e0a7c79",
   "metadata": {},
   "outputs": [
    {
     "name": "stdout",
     "output_type": "stream",
     "text": [
      "\n",
      "Q6 - R^2 using sqft_living: 1.199631416493041e-05\n"
     ]
    }
   ],
   "source": [
    "from sklearn.linear_model import LinearRegression\n",
    "\n",
    "X = df[[\"sqft_living\"]]\n",
    "y = df[\"price\"]\n",
    "\n",
    "lm = LinearRegression()\n",
    "lm.fit(X, y)\n",
    "\n",
    "r2_sqft = lm.score(X, y)\n",
    "print(\"\\nQ6 - R^2 using sqft_living:\", r2_sqft)"
   ]
  },
  {
   "cell_type": "code",
   "execution_count": 10,
   "id": "9bb5c468-ce02-4895-9ced-673148fcfbb7",
   "metadata": {},
   "outputs": [
    {
     "name": "stdout",
     "output_type": "stream",
     "text": [
      "\n",
      "Q7 - R^2 with multiple features: 0.407407267966021\n"
     ]
    }
   ],
   "source": [
    "features = [\n",
    "    \"floors\", \"waterfront\", \"lat\", \"bedrooms\", \"sqft_basement\",\n",
    "    \"view\", \"bathrooms\", \"sqft_living15\", \"sqft_above\", \"grade\", \"sqft_living\"\n",
    "]\n",
    "\n",
    "X_multi = df[features]\n",
    "y_multi = df[\"price\"]\n",
    "\n",
    "lm2 = LinearRegression()\n",
    "lm2.fit(X_multi, y_multi)\n",
    "\n",
    "r2_multi = lm2.score(X_multi, y_multi)\n",
    "print(\"\\nQ7 - R^2 with multiple features:\", r2_multi)"
   ]
  },
  {
   "cell_type": "code",
   "execution_count": 12,
   "id": "9f1bf0b1-a80d-4b07-926a-fe8a9f3f8a71",
   "metadata": {},
   "outputs": [
    {
     "name": "stdout",
     "output_type": "stream",
     "text": [
      "\n",
      "Q8 - Pipeline with Polynomial Features + Linear Regression\n",
      "R^2 with pipeline: 1.0\n"
     ]
    }
   ],
   "source": [
    "from sklearn.pipeline import Pipeline\n",
    "from sklearn.preprocessing import StandardScaler, PolynomialFeatures\n",
    "\n",
    "print(\"\\nQ8 - Pipeline with Polynomial Features + Linear Regression\")\n",
    "\n",
    "features = [\n",
    "    \"floors\", \"waterfront\", \"lat\", \"bedrooms\", \"sqft_basement\",\n",
    "    \"view\", \"bathrooms\", \"sqft_living15\", \"sqft_above\", \"grade\", \"sqft_living\"\n",
    "]\n",
    "\n",
    "X_pipe = df[features]\n",
    "y_pipe = df[\"price\"]\n",
    "\n",
    "pipe = Pipeline([\n",
    "    (\"scale\", StandardScaler()),\n",
    "    (\"poly\", PolynomialFeatures(degree=2, include_bias=False)),\n",
    "    (\"model\", LinearRegression())\n",
    "])\n",
    "\n",
    "pipe.fit(X_pipe, y_pipe)\n",
    "r2_pipe = pipe.score(X_pipe, y_pipe)\n",
    "print(\"R^2 with pipeline:\", r2_pipe)"
   ]
  },
  {
   "cell_type": "code",
   "execution_count": 13,
   "id": "f77d7051-2034-4944-9a30-d45494c54322",
   "metadata": {},
   "outputs": [
    {
     "name": "stdout",
     "output_type": "stream",
     "text": [
      "\n",
      "Q9 - Ridge Regression (alpha=0.1)\n",
      "R^2 with Ridge Regression: -1.081960219194717\n"
     ]
    }
   ],
   "source": [
    "from sklearn.model_selection import train_test_split\n",
    "from sklearn.linear_model import Ridge\n",
    "\n",
    "print(\"\\nQ9 - Ridge Regression (alpha=0.1)\")\n",
    "\n",
    "X_train, X_test, y_train, y_test = train_test_split(X_multi, y_multi, test_size=0.2, random_state=42)\n",
    "\n",
    "ridge = Ridge(alpha=0.1)\n",
    "ridge.fit(X_train, y_train)\n",
    "\n",
    "r2_ridge = ridge.score(X_test, y_test)\n",
    "print(\"R^2 with Ridge Regression:\", r2_ridge)"
   ]
  },
  {
   "cell_type": "code",
   "execution_count": 14,
   "id": "ca062778-ae81-48ce-872e-19dc433c8e21",
   "metadata": {},
   "outputs": [
    {
     "name": "stdout",
     "output_type": "stream",
     "text": [
      "\n",
      "Q10 - Polynomial Ridge Regression (degree=2, alpha=0.1)\n",
      "R^2 with Polynomial Ridge Regression: -12.476050363734695\n"
     ]
    },
    {
     "name": "stderr",
     "output_type": "stream",
     "text": [
      "/opt/anaconda3/lib/python3.13/site-packages/sklearn/linear_model/_ridge.py:252: LinAlgWarning: Ill-conditioned matrix (rcond=4.92676e-17): result may not be accurate.\n",
      "  dual_coef = linalg.solve(K, y, assume_a=\"pos\", overwrite_a=False)\n"
     ]
    }
   ],
   "source": [
    "print(\"\\nQ10 - Polynomial Ridge Regression (degree=2, alpha=0.1)\")\n",
    "\n",
    "poly = PolynomialFeatures(degree=2, include_bias=False)\n",
    "X_train_poly = poly.fit_transform(X_train)\n",
    "X_test_poly = poly.transform(X_test)\n",
    "\n",
    "ridge_poly = Ridge(alpha=0.1)\n",
    "ridge_poly.fit(X_train_poly, y_train)\n",
    "\n",
    "r2_ridge_poly = ridge_poly.score(X_test_poly, y_test)\n",
    "print(\"R^2 with Polynomial Ridge Regression:\", r2_ridge_poly)"
   ]
  },
  {
   "cell_type": "code",
   "execution_count": null,
   "id": "0d02e794-4cf1-4b39-abe7-4b7b79332aa5",
   "metadata": {},
   "outputs": [],
   "source": []
  }
 ],
 "metadata": {
  "kernelspec": {
   "display_name": "Python [conda env:base] *",
   "language": "python",
   "name": "conda-base-py"
  },
  "language_info": {
   "codemirror_mode": {
    "name": "ipython",
    "version": 3
   },
   "file_extension": ".py",
   "mimetype": "text/x-python",
   "name": "python",
   "nbconvert_exporter": "python",
   "pygments_lexer": "ipython3",
   "version": "3.13.5"
  }
 },
 "nbformat": 4,
 "nbformat_minor": 5
}
